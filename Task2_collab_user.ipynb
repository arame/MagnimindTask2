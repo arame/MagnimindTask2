{
 "cells": [
  {
   "cell_type": "code",
   "execution_count": 55,
   "metadata": {},
   "outputs": [],
   "source": [
    "# Data processing\n",
    "import pandas as pd\n",
    "import numpy as np\n",
    "import scipy.stats\n",
    "# Visualization\n",
    "import seaborn as sns\n",
    "# Similarity\n",
    "from sklearn.metrics.pairwise import cosine_similarity\n",
    "from product_data import ProductData\n",
    "from save_file import save_file\n",
    "from collections import OrderedDict"
   ]
  },
  {
   "cell_type": "code",
   "execution_count": 56,
   "metadata": {},
   "outputs": [
    {
     "data": {
      "text/html": [
       "<div>\n",
       "<style scoped>\n",
       "    .dataframe tbody tr th:only-of-type {\n",
       "        vertical-align: middle;\n",
       "    }\n",
       "\n",
       "    .dataframe tbody tr th {\n",
       "        vertical-align: top;\n",
       "    }\n",
       "\n",
       "    .dataframe thead th {\n",
       "        text-align: right;\n",
       "    }\n",
       "</style>\n",
       "<table border=\"1\" class=\"dataframe\">\n",
       "  <thead>\n",
       "    <tr style=\"text-align: right;\">\n",
       "      <th></th>\n",
       "      <th>Customer_ID</th>\n",
       "      <th>5000.5</th>\n",
       "      <th>5001.0</th>\n",
       "      <th>5001.5</th>\n",
       "      <th>5002.0</th>\n",
       "      <th>5002.5</th>\n",
       "      <th>5003.0</th>\n",
       "      <th>5004.0</th>\n",
       "      <th>5004.5</th>\n",
       "      <th>5005.0</th>\n",
       "      <th>...</th>\n",
       "      <th>200035.5</th>\n",
       "      <th>200037.0</th>\n",
       "      <th>200037.5</th>\n",
       "      <th>200038.0</th>\n",
       "      <th>200038.5</th>\n",
       "      <th>200045.5</th>\n",
       "      <th>200046.0</th>\n",
       "      <th>200046.5</th>\n",
       "      <th>200047.0</th>\n",
       "      <th>350027.5</th>\n",
       "    </tr>\n",
       "  </thead>\n",
       "  <tbody>\n",
       "    <tr>\n",
       "      <th>0</th>\n",
       "      <td>00024de6</td>\n",
       "      <td>0</td>\n",
       "      <td>0</td>\n",
       "      <td>0</td>\n",
       "      <td>0</td>\n",
       "      <td>0</td>\n",
       "      <td>0</td>\n",
       "      <td>0</td>\n",
       "      <td>0</td>\n",
       "      <td>0</td>\n",
       "      <td>...</td>\n",
       "      <td>0</td>\n",
       "      <td>0</td>\n",
       "      <td>0</td>\n",
       "      <td>0</td>\n",
       "      <td>0</td>\n",
       "      <td>0</td>\n",
       "      <td>0</td>\n",
       "      <td>0</td>\n",
       "      <td>0</td>\n",
       "      <td>0</td>\n",
       "    </tr>\n",
       "    <tr>\n",
       "      <th>1</th>\n",
       "      <td>00084856</td>\n",
       "      <td>0</td>\n",
       "      <td>0</td>\n",
       "      <td>0</td>\n",
       "      <td>0</td>\n",
       "      <td>0</td>\n",
       "      <td>0</td>\n",
       "      <td>0</td>\n",
       "      <td>0</td>\n",
       "      <td>0</td>\n",
       "      <td>...</td>\n",
       "      <td>0</td>\n",
       "      <td>0</td>\n",
       "      <td>0</td>\n",
       "      <td>0</td>\n",
       "      <td>0</td>\n",
       "      <td>0</td>\n",
       "      <td>0</td>\n",
       "      <td>0</td>\n",
       "      <td>0</td>\n",
       "      <td>0</td>\n",
       "    </tr>\n",
       "    <tr>\n",
       "      <th>2</th>\n",
       "      <td>0008e848</td>\n",
       "      <td>0</td>\n",
       "      <td>0</td>\n",
       "      <td>0</td>\n",
       "      <td>0</td>\n",
       "      <td>0</td>\n",
       "      <td>0</td>\n",
       "      <td>0</td>\n",
       "      <td>0</td>\n",
       "      <td>0</td>\n",
       "      <td>...</td>\n",
       "      <td>0</td>\n",
       "      <td>0</td>\n",
       "      <td>0</td>\n",
       "      <td>0</td>\n",
       "      <td>0</td>\n",
       "      <td>0</td>\n",
       "      <td>0</td>\n",
       "      <td>0</td>\n",
       "      <td>0</td>\n",
       "      <td>0</td>\n",
       "    </tr>\n",
       "    <tr>\n",
       "      <th>3</th>\n",
       "      <td>00096930</td>\n",
       "      <td>0</td>\n",
       "      <td>0</td>\n",
       "      <td>0</td>\n",
       "      <td>0</td>\n",
       "      <td>0</td>\n",
       "      <td>0</td>\n",
       "      <td>0</td>\n",
       "      <td>0</td>\n",
       "      <td>0</td>\n",
       "      <td>...</td>\n",
       "      <td>0</td>\n",
       "      <td>0</td>\n",
       "      <td>0</td>\n",
       "      <td>0</td>\n",
       "      <td>0</td>\n",
       "      <td>0</td>\n",
       "      <td>0</td>\n",
       "      <td>0</td>\n",
       "      <td>0</td>\n",
       "      <td>0</td>\n",
       "    </tr>\n",
       "    <tr>\n",
       "      <th>4</th>\n",
       "      <td>000c66b7</td>\n",
       "      <td>0</td>\n",
       "      <td>0</td>\n",
       "      <td>0</td>\n",
       "      <td>1</td>\n",
       "      <td>0</td>\n",
       "      <td>0</td>\n",
       "      <td>0</td>\n",
       "      <td>0</td>\n",
       "      <td>0</td>\n",
       "      <td>...</td>\n",
       "      <td>0</td>\n",
       "      <td>0</td>\n",
       "      <td>0</td>\n",
       "      <td>0</td>\n",
       "      <td>0</td>\n",
       "      <td>0</td>\n",
       "      <td>0</td>\n",
       "      <td>0</td>\n",
       "      <td>0</td>\n",
       "      <td>0</td>\n",
       "    </tr>\n",
       "  </tbody>\n",
       "</table>\n",
       "<p>5 rows × 334 columns</p>\n",
       "</div>"
      ],
      "text/plain": [
       "  Customer_ID  5000.5  5001.0  5001.5  5002.0  5002.5  5003.0  5004.0  5004.5  \\\n",
       "0    00024de6       0       0       0       0       0       0       0       0   \n",
       "1    00084856       0       0       0       0       0       0       0       0   \n",
       "2    0008e848       0       0       0       0       0       0       0       0   \n",
       "3    00096930       0       0       0       0       0       0       0       0   \n",
       "4    000c66b7       0       0       0       1       0       0       0       0   \n",
       "\n",
       "   5005.0  ...  200035.5  200037.0  200037.5  200038.0  200038.5  200045.5  \\\n",
       "0       0  ...         0         0         0         0         0         0   \n",
       "1       0  ...         0         0         0         0         0         0   \n",
       "2       0  ...         0         0         0         0         0         0   \n",
       "3       0  ...         0         0         0         0         0         0   \n",
       "4       0  ...         0         0         0         0         0         0   \n",
       "\n",
       "   200046.0  200046.5  200047.0  350027.5  \n",
       "0         0         0         0         0  \n",
       "1         0         0         0         0  \n",
       "2         0         0         0         0  \n",
       "3         0         0         0         0  \n",
       "4         0         0         0         0  \n",
       "\n",
       "[5 rows x 334 columns]"
      ]
     },
     "execution_count": 56,
     "metadata": {},
     "output_type": "execute_result"
    }
   ],
   "source": [
    "file_name = \"recom_pivot.csv\"\n",
    "prod = ProductData(file_name)\n",
    "prod.set_pivot_dataframe_data_types()\n",
    "prod.df_recommender.head()"
   ]
  },
  {
   "cell_type": "code",
   "execution_count": 57,
   "metadata": {},
   "outputs": [
    {
     "name": "stdout",
     "output_type": "stream",
     "text": [
      "<class 'pandas.core.frame.DataFrame'>\n",
      "RangeIndex: 28514 entries, 0 to 28513\n",
      "Columns: 334 entries, Customer_ID to 350027.5\n",
      "dtypes: Int64(333), string(1)\n",
      "memory usage: 81.7 MB\n"
     ]
    }
   ],
   "source": [
    "prod.df_recommender.info()"
   ]
  },
  {
   "cell_type": "code",
   "execution_count": 58,
   "metadata": {},
   "outputs": [
    {
     "data": {
      "text/html": [
       "<div>\n",
       "<style scoped>\n",
       "    .dataframe tbody tr th:only-of-type {\n",
       "        vertical-align: middle;\n",
       "    }\n",
       "\n",
       "    .dataframe tbody tr th {\n",
       "        vertical-align: top;\n",
       "    }\n",
       "\n",
       "    .dataframe thead th {\n",
       "        text-align: right;\n",
       "    }\n",
       "</style>\n",
       "<table border=\"1\" class=\"dataframe\">\n",
       "  <thead>\n",
       "    <tr style=\"text-align: right;\">\n",
       "      <th></th>\n",
       "      <th>5000.5</th>\n",
       "      <th>5001.0</th>\n",
       "      <th>5001.5</th>\n",
       "      <th>5002.0</th>\n",
       "      <th>5002.5</th>\n",
       "      <th>5003.0</th>\n",
       "      <th>5004.0</th>\n",
       "      <th>5004.5</th>\n",
       "      <th>5005.0</th>\n",
       "      <th>5007.0</th>\n",
       "      <th>...</th>\n",
       "      <th>200035.5</th>\n",
       "      <th>200037.0</th>\n",
       "      <th>200037.5</th>\n",
       "      <th>200038.0</th>\n",
       "      <th>200038.5</th>\n",
       "      <th>200045.5</th>\n",
       "      <th>200046.0</th>\n",
       "      <th>200046.5</th>\n",
       "      <th>200047.0</th>\n",
       "      <th>350027.5</th>\n",
       "    </tr>\n",
       "  </thead>\n",
       "  <tbody>\n",
       "    <tr>\n",
       "      <th>0</th>\n",
       "      <td>0</td>\n",
       "      <td>0</td>\n",
       "      <td>0</td>\n",
       "      <td>0</td>\n",
       "      <td>0</td>\n",
       "      <td>0</td>\n",
       "      <td>0</td>\n",
       "      <td>0</td>\n",
       "      <td>0</td>\n",
       "      <td>0</td>\n",
       "      <td>...</td>\n",
       "      <td>0</td>\n",
       "      <td>0</td>\n",
       "      <td>0</td>\n",
       "      <td>0</td>\n",
       "      <td>0</td>\n",
       "      <td>0</td>\n",
       "      <td>0</td>\n",
       "      <td>0</td>\n",
       "      <td>0</td>\n",
       "      <td>0</td>\n",
       "    </tr>\n",
       "    <tr>\n",
       "      <th>1</th>\n",
       "      <td>0</td>\n",
       "      <td>0</td>\n",
       "      <td>0</td>\n",
       "      <td>0</td>\n",
       "      <td>0</td>\n",
       "      <td>0</td>\n",
       "      <td>0</td>\n",
       "      <td>0</td>\n",
       "      <td>0</td>\n",
       "      <td>0</td>\n",
       "      <td>...</td>\n",
       "      <td>0</td>\n",
       "      <td>0</td>\n",
       "      <td>0</td>\n",
       "      <td>0</td>\n",
       "      <td>0</td>\n",
       "      <td>0</td>\n",
       "      <td>0</td>\n",
       "      <td>0</td>\n",
       "      <td>0</td>\n",
       "      <td>0</td>\n",
       "    </tr>\n",
       "    <tr>\n",
       "      <th>2</th>\n",
       "      <td>0</td>\n",
       "      <td>0</td>\n",
       "      <td>0</td>\n",
       "      <td>0</td>\n",
       "      <td>0</td>\n",
       "      <td>0</td>\n",
       "      <td>0</td>\n",
       "      <td>0</td>\n",
       "      <td>0</td>\n",
       "      <td>0</td>\n",
       "      <td>...</td>\n",
       "      <td>0</td>\n",
       "      <td>0</td>\n",
       "      <td>0</td>\n",
       "      <td>0</td>\n",
       "      <td>0</td>\n",
       "      <td>0</td>\n",
       "      <td>0</td>\n",
       "      <td>0</td>\n",
       "      <td>0</td>\n",
       "      <td>0</td>\n",
       "    </tr>\n",
       "    <tr>\n",
       "      <th>3</th>\n",
       "      <td>0</td>\n",
       "      <td>0</td>\n",
       "      <td>0</td>\n",
       "      <td>0</td>\n",
       "      <td>0</td>\n",
       "      <td>0</td>\n",
       "      <td>0</td>\n",
       "      <td>0</td>\n",
       "      <td>0</td>\n",
       "      <td>0</td>\n",
       "      <td>...</td>\n",
       "      <td>0</td>\n",
       "      <td>0</td>\n",
       "      <td>0</td>\n",
       "      <td>0</td>\n",
       "      <td>0</td>\n",
       "      <td>0</td>\n",
       "      <td>0</td>\n",
       "      <td>0</td>\n",
       "      <td>0</td>\n",
       "      <td>0</td>\n",
       "    </tr>\n",
       "    <tr>\n",
       "      <th>4</th>\n",
       "      <td>0</td>\n",
       "      <td>0</td>\n",
       "      <td>0</td>\n",
       "      <td>1</td>\n",
       "      <td>0</td>\n",
       "      <td>0</td>\n",
       "      <td>0</td>\n",
       "      <td>0</td>\n",
       "      <td>0</td>\n",
       "      <td>0</td>\n",
       "      <td>...</td>\n",
       "      <td>0</td>\n",
       "      <td>0</td>\n",
       "      <td>0</td>\n",
       "      <td>0</td>\n",
       "      <td>0</td>\n",
       "      <td>0</td>\n",
       "      <td>0</td>\n",
       "      <td>0</td>\n",
       "      <td>0</td>\n",
       "      <td>0</td>\n",
       "    </tr>\n",
       "  </tbody>\n",
       "</table>\n",
       "<p>5 rows × 333 columns</p>\n",
       "</div>"
      ],
      "text/plain": [
       "   5000.5  5001.0  5001.5  5002.0  5002.5  5003.0  5004.0  5004.5  5005.0  \\\n",
       "0       0       0       0       0       0       0       0       0       0   \n",
       "1       0       0       0       0       0       0       0       0       0   \n",
       "2       0       0       0       0       0       0       0       0       0   \n",
       "3       0       0       0       0       0       0       0       0       0   \n",
       "4       0       0       0       1       0       0       0       0       0   \n",
       "\n",
       "   5007.0  ...  200035.5  200037.0  200037.5  200038.0  200038.5  200045.5  \\\n",
       "0       0  ...         0         0         0         0         0         0   \n",
       "1       0  ...         0         0         0         0         0         0   \n",
       "2       0  ...         0         0         0         0         0         0   \n",
       "3       0  ...         0         0         0         0         0         0   \n",
       "4       0  ...         0         0         0         0         0         0   \n",
       "\n",
       "   200046.0  200046.5  200047.0  350027.5  \n",
       "0         0         0         0         0  \n",
       "1         0         0         0         0  \n",
       "2         0         0         0         0  \n",
       "3         0         0         0         0  \n",
       "4         0         0         0         0  \n",
       "\n",
       "[5 rows x 333 columns]"
      ]
     },
     "execution_count": 58,
     "metadata": {},
     "output_type": "execute_result"
    }
   ],
   "source": [
    "prod.df_products.head()"
   ]
  },
  {
   "cell_type": "code",
   "execution_count": 59,
   "metadata": {},
   "outputs": [],
   "source": [
    "# This code takes a long time to run, so better not to run it.\n",
    "\n",
    "is_execute_long_time_code = False\n",
    "if is_execute_long_time_code:\n",
    "    # Customer similarity matrix using Pearson correlation\n",
    "    df_customer_similarity = prod.df_products.T.corr()\n",
    "\n",
    "    # This code takes a long time to run, so save the dataframe to file\n",
    "    output_file = \"customer_similarity.csv\"\n",
    "    save_file(output_file, df_customer_similarity)"
   ]
  },
  {
   "cell_type": "code",
   "execution_count": 60,
   "metadata": {},
   "outputs": [],
   "source": [
    "# Convert the dataframe to a numpy array. Processing is too slow for dataframes\n",
    "x1 = prod.df_products.astype(float).to_numpy()\n",
    "np_customer_similarity = np.corrcoef(x1)\n"
   ]
  },
  {
   "cell_type": "code",
   "execution_count": 61,
   "metadata": {},
   "outputs": [
    {
     "name": "stdout",
     "output_type": "stream",
     "text": [
      "00024de6 [1.0, -0.0, -0.0, -0.0, -0.0, -0.0, -0.0, -0.0, -0.0, -0.0, -0.0, -0.0]\n",
      "00084856 [-0.0, 1.0, -0.0, 0.71, -0.01, 0.95, -0.0, -0.0, -0.01, -0.0, -0.0, -0.0]\n",
      "0008e848 [-0.0, -0.0, 1.0, -0.0, -0.0, -0.0, -0.0, -0.0, -0.0, -0.0, -0.0, -0.0]\n",
      "00096930 [-0.0, 0.71, -0.0, 1.0, -0.0, 0.89, -0.0, -0.0, -0.0, -0.0, -0.0, -0.0]\n",
      "000c66b7 [-0.0, -0.01, -0.0, -0.0, 1.0, -0.01, -0.0, -0.0, -0.01, -0.0, -0.0, -0.0]\n",
      "000e98ee [-0.0, 0.95, -0.0, 0.89, -0.01, 1.0, -0.0, -0.0, -0.01, -0.0, -0.0, -0.0]\n",
      "00165e2e [-0.0, -0.0, -0.0, -0.0, -0.0, -0.0, 1.0, -0.0, -0.0, -0.0, -0.0, -0.0]\n",
      "00171ffd [-0.0, -0.0, -0.0, -0.0, -0.0, -0.0, -0.0, 1.0, -0.0, -0.0, -0.0, -0.0]\n",
      "0019e439 [-0.0, -0.01, -0.0, -0.0, -0.01, -0.01, -0.0, -0.0, 1.0, -0.0, -0.0, -0.0]\n",
      "001a93a4 [-0.0, -0.0, -0.0, -0.0, -0.0, -0.0, -0.0, -0.0, -0.0, 1.0, -0.0, -0.0]\n",
      "001b1dab [-0.0, -0.0, -0.0, -0.0, -0.0, -0.0, -0.0, -0.0, -0.0, -0.0, 1.0, -0.0]\n",
      "001dfadd [-0.0, -0.0, -0.0, -0.0, -0.0, -0.0, -0.0, -0.0, -0.0, -0.0, -0.0, 1.0]\n"
     ]
    }
   ],
   "source": [
    "for i in range(0,12):   \n",
    "    customer_id = prod.dict_customers[i]\n",
    "    row = [round(item, 2) for item in np_customer_similarity[i]]\n",
    "    print(customer_id, row[0:12])"
   ]
  },
  {
   "cell_type": "code",
   "execution_count": 62,
   "metadata": {},
   "outputs": [],
   "source": [
    "# Customer similarity matrix using cosine similarity\n",
    "# This takes up memory and produces a very similar result, so no need to execute it\n",
    "get_customer_similarity_cosine = False\n",
    "if get_customer_similarity_cosine:\n",
    "    np_customer_similarity_cosine = cosine_similarity(prod.df_products)\n",
    "    for i in range(0,12):   \n",
    "        customer_id = prod.dict_customers[i]\n",
    "        row = [round(item, 2) for item in np_customer_similarity_cosine[i]]\n",
    "        print(customer_id, row[0:12])\n"
   ]
  },
  {
   "cell_type": "code",
   "execution_count": 63,
   "metadata": {},
   "outputs": [
    {
     "name": "stdout",
     "output_type": "stream",
     "text": [
      "The similar customers for customer 000e98ee are:\n",
      "15b48f75 1.0\n",
      "26678038 1.0\n",
      "29e44035 1.0\n",
      "4326cc2b 1.0\n",
      "4bf15238 1.0\n",
      "50b4a246 1.0\n",
      "64ff0aba 1.0\n",
      "6ded3f04 1.0\n",
      "73b89da1 1.0\n",
      "783372ab 1.0\n"
     ]
    }
   ],
   "source": [
    "# Number of similar users\n",
    "n = 10\n",
    "# User similarity threshold\n",
    "customer_similarity_threshold = 0.8\n",
    "picked_customer_id = \"000e98ee\"\n",
    "picked_customer_ind = prod.dict_customers_rvs[picked_customer_id]\n",
    "\n",
    "# Get top n similar users\n",
    "# Also exclude similar users where the correlation = 1.\n",
    "# Correlation = 1 means the customer record is precisely the same as the picked customer.\n",
    "# In which case no new products will be recommended from that customer\n",
    "customer_row = np_customer_similarity[picked_customer_ind]\n",
    "list_customer_results = []\n",
    "for customer_ind, corr_val in enumerate(customer_row):\n",
    "    if corr_val < customer_similarity_threshold and corr_val < 1:\n",
    "        continue\n",
    "\n",
    "    customer = prod.dict_customers[customer_ind]\n",
    "    if customer == picked_customer_id:\n",
    "        continue\n",
    "\n",
    "    correlation = round(corr_val, 2)\n",
    "    list_customer_results.append((customer, correlation))\n",
    "\n",
    "list_customer_results.sort(key = lambda x: x[1], reverse=True)\n",
    "\n",
    "# Print out top n similar users\n",
    "print(f'The similar customers for customer {picked_customer_id} are:', )\n",
    "for customer, correlation in list_customer_results[:n]:\n",
    "    print(customer, correlation)"
   ]
  },
  {
   "cell_type": "code",
   "execution_count": 64,
   "metadata": {},
   "outputs": [
    {
     "data": {
      "text/plain": [
       "(28514, 333)"
      ]
     },
     "execution_count": 64,
     "metadata": {},
     "output_type": "execute_result"
    }
   ],
   "source": [
    "np_products = prod.df_products.to_numpy()\n",
    "np_products.shape"
   ]
  },
  {
   "cell_type": "code",
   "execution_count": 74,
   "metadata": {},
   "outputs": [
    {
     "name": "stdout",
     "output_type": "stream",
     "text": [
      "Products already bought by the picked customer\n"
     ]
    },
    {
     "data": {
      "text/plain": [
       "{'49291.5': 2, '49292.0': 1}"
      ]
     },
     "execution_count": 74,
     "metadata": {},
     "output_type": "execute_result"
    }
   ],
   "source": [
    "# Need to recommend products for the customer\n",
    "# Do not recommend products that the customer has already bought (ignore where correlation = 1)\n",
    "# Need to recommend products that similar customers have bought\n",
    "# Remove products that none of the customers have bought or the picked customer has already bought\n",
    "\n",
    "np_products = prod.df_products.to_numpy()\n",
    "product_names = prod.df_products.columns.values\n",
    "# convert product names list to dictionary\n",
    "product_dict = {key: i for i, key in enumerate(product_names)}\n",
    "product_dict_rvs = dict([(value, key) for key, value in product_dict.items()])\n",
    "# get product_ids for the picked customer\n",
    "picked_customer_products = prod.df_products.iloc[picked_customer_ind]\n",
    "dict_picked_customer_products = {}\n",
    "list_picked_customer_products = []\n",
    "for i, val in enumerate(picked_customer_products.values):\n",
    "    if val > 0:\n",
    "        product_id = product_dict_rvs[i]\n",
    "        dict_picked_customer_products[product_id] = val\n",
    "        list_picked_customer_products.append(product_id)\n",
    "\n",
    "print(\"Products already bought by the picked customer\")\n",
    "dict_picked_customer_products\n",
    "\n"
   ]
  },
  {
   "cell_type": "code",
   "execution_count": 69,
   "metadata": {},
   "outputs": [
    {
     "name": "stdout",
     "output_type": "stream",
     "text": [
      "[[0 0 0 ... 0 0 0]\n",
      " [0 0 0 ... 0 0 0]\n",
      " [0 0 0 ... 0 0 0]\n",
      " ...\n",
      " [1 1 0 ... 0 0 0]\n",
      " [2 0 1 ... 0 0 0]\n",
      " [0 0 0 ... 0 0 0]]\n"
     ]
    }
   ],
   "source": [
    "np_selected_customers = np.empty((0, prod.df_products.shape[1]))\n",
    "for customer, correlation in list_customer_results:\n",
    "    customer_ind = prod.dict_customers_rvs[customer]\n",
    "    row = np_products[customer_ind]\n",
    "    np_selected_customers = np.vstack([np_selected_customers, row])\n",
    "\n",
    "print(np_selected_customers)"
   ]
  },
  {
   "cell_type": "code",
   "execution_count": 72,
   "metadata": {},
   "outputs": [
    {
     "name": "stdout",
     "output_type": "stream",
     "text": [
      "These are the total number of sales per product for all the similar customers\n"
     ]
    },
    {
     "data": {
      "text/plain": [
       "array([20, 4, 5, 10, 0, 0, 0, 0, 0, 0, 0, 6, 0, 4, 9, 0, 0, 0, 4, 0, 0, 0,\n",
       "       0, 0, 0, 0, 0, 0, 0, 0, 2, 0, 0, 0, 8, 3, 0, 0, 0, 0, 0, 1, 2, 1,\n",
       "       0, 0, 0, 3, 0, 0, 0, 0, 0, 0, 0, 1, 1, 0, 0, 0, 0, 0, 0, 0, 0, 0,\n",
       "       0, 2, 0, 0, 0, 0, 0, 0, 0, 0, 0, 0, 0, 0, 0, 0, 0, 0, 0, 0, 0, 0,\n",
       "       0, 9, 6, 0, 0, 0, 0, 0, 0, 0, 2, 0, 0, 1, 1, 2, 1, 0, 0, 0, 0, 1,\n",
       "       2, 0, 2, 4, 1, 0, 2, 1, 1, 0, 0, 0, 0, 0, 0, 0, 0, 0, 0, 0, 0, 0,\n",
       "       0, 0, 0, 0, 0, 0, 0, 0, 0, 0, 0, 0, 0, 0, 0, 0, 0, 0, 0, 0, 4, 0,\n",
       "       1, 0, 0, 0, 0, 0, 0, 0, 0, 0, 0, 0, 0, 0, 0, 0, 0, 0, 0, 0, 0, 0,\n",
       "       0, 0, 0, 0, 3, 0, 0, 0, 0, 0, 0, 0, 0, 0, 2, 3, 0, 2, 0, 0, 1, 0,\n",
       "       0, 0, 1, 0, 0, 0, 0, 0, 0, 0, 0, 0, 0, 0, 0, 0, 0, 0, 0, 0, 0, 0,\n",
       "       0, 0, 0, 0, 0, 0, 0, 0, 0, 0, 0, 0, 0, 0, 0, 0, 0, 0, 0, 1, 7, 3,\n",
       "       4, 2, 0, 12, 1, 0, 0, 12, 0, 0, 0, 9, 0, 3, 0, 0, 0, 0, 0, 3, 0, 0,\n",
       "       0, 0, 2, 0, 2, 0, 1, 0, 0, 3483, 159, 1, 8, 0, 0, 4, 0, 0, 0, 0, 0,\n",
       "       2, 5, 0, 0, 0, 0, 0, 0, 0, 0, 0, 0, 0, 0, 0, 0, 0, 0, 0, 0, 0, 0,\n",
       "       0, 0, 0, 0, 0, 0, 0, 0, 0, 0, 0, 0, 0, 0, 0, 0, 0, 0, 0, 0, 0, 0,\n",
       "       0, 0, 0, 0], dtype=object)"
      ]
     },
     "execution_count": 72,
     "metadata": {},
     "output_type": "execute_result"
    }
   ],
   "source": [
    "product_totals = np_selected_customers.sum(axis=0)\n",
    "print(\"These are the total number of sales per product for all the similar customers\")\n",
    "product_totals"
   ]
  },
  {
   "attachments": {},
   "cell_type": "markdown",
   "metadata": {},
   "source": [
    "Locate the best selling products for all the similar customers, these will be the recommended products for the selected customer. Exclude products that the customer has already bought."
   ]
  },
  {
   "cell_type": "code",
   "execution_count": 73,
   "metadata": {},
   "outputs": [
    {
     "name": "stdout",
     "output_type": "stream",
     "text": [
      "Products recommended for the picked customer 000e98ee\n"
     ]
    },
    {
     "data": {
      "text/plain": [
       "[('5000.5', 20),\n",
       " ('45004.0', 12),\n",
       " ('48504.5', 12),\n",
       " ('5002.0', 10),\n",
       " ('5012.0', 9),\n",
       " ('25003.0', 9),\n",
       " ('48513.0', 9),\n",
       " ('10013.0', 8),\n",
       " ('49356.0', 8),\n",
       " ('45001.0', 7),\n",
       " ('5009.0', 6),\n",
       " ('25003.5', 6),\n",
       " ('5001.5', 5),\n",
       " ('49567.5', 5),\n",
       " ('5001.0', 4),\n",
       " ('5011.5', 4),\n",
       " ('5017.0', 4),\n",
       " ('35000.5', 4),\n",
       " ('35076.0', 4),\n",
       " ('45002.5', 4),\n",
       " ('49427.5', 4)]"
      ]
     },
     "execution_count": 73,
     "metadata": {},
     "output_type": "execute_result"
    }
   ],
   "source": [
    "dict_product_totals = dict((product_dict_rvs[key], value) for key, value in enumerate(product_totals, 0) if value > 3 and product_dict_rvs[key] not in list_picked_customer_products)\n",
    "dict_product_totals = sorted(dict_product_totals.items(), key=lambda x:x[1], reverse=True)\n",
    "print(f\"Products recommended for the picked customer {picked_customer_id}\")\n",
    "dict_product_totals"
   ]
  }
 ],
 "metadata": {
  "kernelspec": {
   "display_name": "base",
   "language": "python",
   "name": "python3"
  },
  "language_info": {
   "codemirror_mode": {
    "name": "ipython",
    "version": 3
   },
   "file_extension": ".py",
   "mimetype": "text/x-python",
   "name": "python",
   "nbconvert_exporter": "python",
   "pygments_lexer": "ipython3",
   "version": "3.9.13"
  },
  "orig_nbformat": 4,
  "vscode": {
   "interpreter": {
    "hash": "b41ba045e83f0be7a0a86cbeef029bed6bb1f3047ea5aef815a52ba8b6ba543c"
   }
  }
 },
 "nbformat": 4,
 "nbformat_minor": 2
}
