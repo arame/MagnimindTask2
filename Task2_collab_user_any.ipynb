{
 "cells": [
  {
   "attachments": {},
   "cell_type": "markdown",
   "metadata": {},
   "source": [
    "Precondition: run Task2_clean.ipynb before running this code.\n",
    "This creates the input file of the Customer-Product utility matrix"
   ]
  },
  {
   "attachments": {},
   "cell_type": "markdown",
   "metadata": {},
   "source": [
    "This code in based on Task2_collab_user_single.ipynb<br>\n",
    "The code in this notebook allows you to find out the recommendations for any customer, not just one.\n"
   ]
  },
  {
   "cell_type": "code",
   "execution_count": 84,
   "metadata": {},
   "outputs": [],
   "source": [
    "from product_data import ProductData\n",
    "import numpy as np\n",
    "import pandas as pd\n",
    "import random\n",
    "from tqdm import tqdm\n",
    "from save_file import save_file\n",
    "import logging, importlib, sys"
   ]
  },
  {
   "cell_type": "code",
   "execution_count": 85,
   "metadata": {},
   "outputs": [],
   "source": [
    "# ensure logging is output in the Jupyter Notebook\n",
    "importlib.reload(logging)\n",
    "logging.basicConfig(format='%(asctime)s | %(levelname)s : %(message)s',\n",
    "                     level=logging.INFO, stream=sys.stdout)"
   ]
  },
  {
   "cell_type": "code",
   "execution_count": 86,
   "metadata": {},
   "outputs": [],
   "source": [
    "\n",
    "\n",
    "file_name = \"recom_pivot.csv\"\n",
    "prod = ProductData(file_name)\n",
    "prod.set_pivot_dataframe_data_types()"
   ]
  },
  {
   "attachments": {},
   "cell_type": "markdown",
   "metadata": {},
   "source": [
    "Need to recommend products for the customer\n",
    "\n",
    "Do not recommend products that the customer has already bought (also ignore where correlation = 1)\n",
    "\n",
    "Need to recommend products that similar customers have bought but the picked customer has not."
   ]
  },
  {
   "cell_type": "code",
   "execution_count": 87,
   "metadata": {},
   "outputs": [],
   "source": [
    "def get_recommendations(picked_customer_id, prod, np_customer_similarity):\n",
    "    # Number of similar customers\n",
    "    n = 10\n",
    "    # Customer similarity threshold\n",
    "    customer_similarity_threshold = 0.1\n",
    "    # find the index of the picked customer id\n",
    "    picked_customer_ind = prod.dict_customers_rvs[picked_customer_id]\n",
    "    # Get top n similar customers\n",
    "    # Also exclude similar customers where the correlation = 1.\n",
    "    # Correlation = 1 means the customer record is precisely the same as the picked customer.\n",
    "    # In which case no new products will be recommended from that customer\n",
    "    customer_row = np_customer_similarity[picked_customer_ind]\n",
    "    \n",
    "    list_customer_results = []\n",
    "    #logging.info(f'get similar customers for {picked_customer_id}')\n",
    "    for customer_ind, corr_val in enumerate(customer_row):\n",
    "        if corr_val < customer_similarity_threshold or corr_val > 0.999:\n",
    "            continue\n",
    "\n",
    "        customer = prod.dict_customers[customer_ind]\n",
    "        if customer == picked_customer_id:\n",
    "            continue\n",
    "            \n",
    "        correlation = round(corr_val, 2)\n",
    "        list_customer_results.append((customer, correlation))\n",
    "\n",
    "    list_customer_results.sort(key = lambda x: x[1], reverse=True)\n",
    "    np_products = prod.df_products.to_numpy()\n",
    "    product_names = prod.df_products.columns.values\n",
    "    # convert product names list to dictionary\n",
    "    product_dict = {key: i for i, key in enumerate(product_names)}\n",
    "    product_dict_rvs = dict([(value, key) for key, value in product_dict.items()])\n",
    "    # get product_ids for the picked customer\n",
    "    picked_customer_products = prod.df_products.iloc[picked_customer_ind]\n",
    "    dict_picked_customer_products = {}\n",
    "    list_picked_customer_products = []\n",
    "    #logging.info(f'store customer {picked_customer_id} products')\n",
    "    for i, val in enumerate(picked_customer_products.values):\n",
    "        if val > 0:\n",
    "            product_id = product_dict_rvs[i]\n",
    "            dict_picked_customer_products[product_id] = val\n",
    "            list_picked_customer_products.append(product_id)\n",
    "    np_selected_customers = np.empty((0, prod.df_products.shape[1]))\n",
    "    logging.info(f'store recommended products for customer {picked_customer_id}')\n",
    "    for customer, correlation in tqdm(list_customer_results):\n",
    "        customer_ind = prod.dict_customers_rvs[customer]\n",
    "        row = np_products[customer_ind]\n",
    "        np_selected_customers = np.vstack([np_selected_customers, row])\n",
    "    # Locate the best selling products for all the similar customers, these will be the recommended products for the selected customer. Exclude products that the customer has already bought.\n",
    "    product_totals = np_selected_customers.sum(axis=0)\n",
    "    dict_product_totals = dict((product_dict_rvs[key], value) for key, value in enumerate(product_totals, 0) if value > 3 and product_dict_rvs[key] not in list_picked_customer_products)\n",
    "    dict_product_totals = sorted(dict_product_totals.items(), key=lambda x:x[1], reverse=True)\n",
    "    return dict_product_totals"
   ]
  },
  {
   "cell_type": "code",
   "execution_count": 88,
   "metadata": {},
   "outputs": [],
   "source": [
    "def get_recommendations_for_customer(picked_customer_id, prod, np_customer_similarity, N = 5):\n",
    "    dict_product_totals = get_recommendations(picked_customer_id, prod, np_customer_similarity)\n",
    "    print(f\"Top {N} products recommended for the picked customer {picked_customer_id}\")\n",
    "\n",
    "    top_product_recommendations = [x for index, x in enumerate(dict_product_totals) if index < N]\n",
    "    for product, amount in top_product_recommendations:\n",
    "        print(f\"product {product} was bought {amount} times by similar customers\")\n",
    "    print(\"-------------------\")"
   ]
  },
  {
   "cell_type": "code",
   "execution_count": 89,
   "metadata": {},
   "outputs": [
    {
     "name": "stdout",
     "output_type": "stream",
     "text": [
      "2022-12-21 12:18:11,402 | INFO : store recommended products for customer 0008e848\n"
     ]
    },
    {
     "name": "stderr",
     "output_type": "stream",
     "text": [
      "100%|██████████| 72/72 [00:00<00:00, 9024.59it/s]"
     ]
    },
    {
     "name": "stdout",
     "output_type": "stream",
     "text": [
      "Top 5 products recommended for the picked customer 0008e848\n",
      "product 5000.5 was bought 42 times by similar customers\n",
      "product 49292.0 was bought 25 times by similar customers\n",
      "product 45004.0 was bought 24 times by similar customers\n",
      "product 49291.5 was bought 23 times by similar customers\n",
      "product 35076.0 was bought 16 times by similar customers\n",
      "-------------------\n"
     ]
    },
    {
     "name": "stderr",
     "output_type": "stream",
     "text": [
      "\n"
     ]
    }
   ],
   "source": [
    "# Generate the correlation (Pearson values) matrix for customers\n",
    "x1 = prod.df_products.astype(float).to_numpy()\n",
    "np_customer_similarity = np.corrcoef(x1)\n",
    "\n",
    "# pick a customer and get the index for that customer\n",
    "picked_customer_id = \"0008e848\"\n",
    "get_recommendations_for_customer(picked_customer_id, prod, np_customer_similarity)"
   ]
  },
  {
   "attachments": {},
   "cell_type": "markdown",
   "metadata": {},
   "source": [
    "It takes a lot of processing time to generate recommenders for a customer, and there are over 28,000 customers. So here you can specify how many customers and how many recommendations you wish to make. And the data is output to a csv file where you can check the results."
   ]
  },
  {
   "cell_type": "code",
   "execution_count": 90,
   "metadata": {},
   "outputs": [
    {
     "name": "stdout",
     "output_type": "stream",
     "text": [
      "2022-12-21 12:18:11,684 | INFO : store recommended products for customer 00024de6\n"
     ]
    },
    {
     "name": "stderr",
     "output_type": "stream",
     "text": [
      "100%|██████████| 51/51 [00:00<00:00, 10276.70it/s]\n"
     ]
    },
    {
     "name": "stdout",
     "output_type": "stream",
     "text": [
      "2022-12-21 12:18:11,934 | INFO : store recommended products for customer 00084856\n"
     ]
    },
    {
     "name": "stderr",
     "output_type": "stream",
     "text": [
      "100%|██████████| 7741/7741 [00:46<00:00, 167.18it/s]\n"
     ]
    },
    {
     "name": "stdout",
     "output_type": "stream",
     "text": [
      "2022-12-21 12:18:58,435 | INFO : store recommended products for customer 0008e848\n"
     ]
    },
    {
     "name": "stderr",
     "output_type": "stream",
     "text": [
      "100%|██████████| 72/72 [00:00<00:00, 9022.43it/s]\n"
     ]
    },
    {
     "name": "stdout",
     "output_type": "stream",
     "text": [
      "2022-12-21 12:18:58,611 | INFO : store recommended products for customer 00096930\n"
     ]
    },
    {
     "name": "stderr",
     "output_type": "stream",
     "text": [
      "100%|██████████| 1659/1659 [00:02<00:00, 778.39it/s] \n"
     ]
    },
    {
     "name": "stdout",
     "output_type": "stream",
     "text": [
      "2022-12-21 12:19:00,917 | INFO : store recommended products for customer 000c66b7\n"
     ]
    },
    {
     "name": "stderr",
     "output_type": "stream",
     "text": [
      "100%|██████████| 1426/1426 [00:01<00:00, 865.21it/s] \n"
     ]
    },
    {
     "name": "stdout",
     "output_type": "stream",
     "text": [
      "2022-12-21 12:19:02,806 | INFO : store recommended products for customer 000e98ee\n"
     ]
    },
    {
     "name": "stderr",
     "output_type": "stream",
     "text": [
      "100%|██████████| 7741/7741 [00:48<00:00, 158.20it/s] \n"
     ]
    },
    {
     "name": "stdout",
     "output_type": "stream",
     "text": [
      "2022-12-21 12:19:51,977 | INFO : store recommended products for customer 00165e2e\n"
     ]
    },
    {
     "name": "stderr",
     "output_type": "stream",
     "text": [
      "100%|██████████| 35/35 [00:00<00:00, 7017.57it/s]\n"
     ]
    },
    {
     "name": "stdout",
     "output_type": "stream",
     "text": [
      "2022-12-21 12:19:52,193 | INFO : store recommended products for customer 00171ffd\n"
     ]
    },
    {
     "name": "stderr",
     "output_type": "stream",
     "text": [
      "100%|██████████| 317/317 [00:00<00:00, 4295.29it/s]\n"
     ]
    },
    {
     "name": "stdout",
     "output_type": "stream",
     "text": [
      "2022-12-21 12:19:52,485 | INFO : store recommended products for customer 0019e439\n"
     ]
    },
    {
     "name": "stderr",
     "output_type": "stream",
     "text": [
      "100%|██████████| 1161/1161 [00:01<00:00, 1018.46it/s]"
     ]
    },
    {
     "name": "stdout",
     "output_type": "stream",
     "text": [
      "2022-12-21 12:19:53,802 | INFO : store recommended products for customer 001a93a4\n"
     ]
    },
    {
     "name": "stderr",
     "output_type": "stream",
     "text": [
      "\n",
      "100%|██████████| 264/264 [00:00<00:00, 3529.12it/s]"
     ]
    },
    {
     "name": "stdout",
     "output_type": "stream",
     "text": [
      "the following records are output to customer_recommendations.csv\n"
     ]
    },
    {
     "name": "stderr",
     "output_type": "stream",
     "text": [
      "\n"
     ]
    },
    {
     "data": {
      "text/html": [
       "<div>\n",
       "<style scoped>\n",
       "    .dataframe tbody tr th:only-of-type {\n",
       "        vertical-align: middle;\n",
       "    }\n",
       "\n",
       "    .dataframe tbody tr th {\n",
       "        vertical-align: top;\n",
       "    }\n",
       "\n",
       "    .dataframe thead th {\n",
       "        text-align: right;\n",
       "    }\n",
       "</style>\n",
       "<table border=\"1\" class=\"dataframe\">\n",
       "  <thead>\n",
       "    <tr style=\"text-align: right;\">\n",
       "      <th></th>\n",
       "      <th>Customer_Id</th>\n",
       "      <th>Code_Product1</th>\n",
       "      <th>Number_of_Similar_Customers_Buy1</th>\n",
       "      <th>Code_Product2</th>\n",
       "      <th>Number_of_Similar_Customers_Buy2</th>\n",
       "      <th>Code_Product3</th>\n",
       "      <th>Number_of_Similar_Customers_Buy3</th>\n",
       "      <th>Code_Product4</th>\n",
       "      <th>Number_of_Similar_Customers_Buy4</th>\n",
       "      <th>Code_Product5</th>\n",
       "      <th>Number_of_Similar_Customers_Buy5</th>\n",
       "    </tr>\n",
       "  </thead>\n",
       "  <tbody>\n",
       "    <tr>\n",
       "      <th>0</th>\n",
       "      <td>00024de6</td>\n",
       "      <td>35096.5</td>\n",
       "      <td>34</td>\n",
       "      <td>5000.5</td>\n",
       "      <td>26</td>\n",
       "      <td>49291.5</td>\n",
       "      <td>19</td>\n",
       "      <td>49292.0</td>\n",
       "      <td>19</td>\n",
       "      <td>35076.0</td>\n",
       "      <td>16</td>\n",
       "    </tr>\n",
       "    <tr>\n",
       "      <th>1</th>\n",
       "      <td>00084856</td>\n",
       "      <td>5000.5</td>\n",
       "      <td>1298</td>\n",
       "      <td>45004.0</td>\n",
       "      <td>1202</td>\n",
       "      <td>10013.0</td>\n",
       "      <td>431</td>\n",
       "      <td>25003.0</td>\n",
       "      <td>399</td>\n",
       "      <td>48504.5</td>\n",
       "      <td>369</td>\n",
       "    </tr>\n",
       "    <tr>\n",
       "      <th>2</th>\n",
       "      <td>0008e848</td>\n",
       "      <td>5000.5</td>\n",
       "      <td>42</td>\n",
       "      <td>49292.0</td>\n",
       "      <td>25</td>\n",
       "      <td>45004.0</td>\n",
       "      <td>24</td>\n",
       "      <td>49291.5</td>\n",
       "      <td>23</td>\n",
       "      <td>35076.0</td>\n",
       "      <td>16</td>\n",
       "    </tr>\n",
       "    <tr>\n",
       "      <th>3</th>\n",
       "      <td>00096930</td>\n",
       "      <td>49292.0</td>\n",
       "      <td>993</td>\n",
       "      <td>5000.5</td>\n",
       "      <td>953</td>\n",
       "      <td>45004.0</td>\n",
       "      <td>764</td>\n",
       "      <td>10013.0</td>\n",
       "      <td>281</td>\n",
       "      <td>25003.0</td>\n",
       "      <td>261</td>\n",
       "    </tr>\n",
       "    <tr>\n",
       "      <th>4</th>\n",
       "      <td>000c66b7</td>\n",
       "      <td>5000.5</td>\n",
       "      <td>535</td>\n",
       "      <td>45004.0</td>\n",
       "      <td>433</td>\n",
       "      <td>49292.0</td>\n",
       "      <td>393</td>\n",
       "      <td>49291.5</td>\n",
       "      <td>341</td>\n",
       "      <td>10013.0</td>\n",
       "      <td>169</td>\n",
       "    </tr>\n",
       "    <tr>\n",
       "      <th>5</th>\n",
       "      <td>000e98ee</td>\n",
       "      <td>5000.5</td>\n",
       "      <td>1250</td>\n",
       "      <td>45004.0</td>\n",
       "      <td>1152</td>\n",
       "      <td>10013.0</td>\n",
       "      <td>408</td>\n",
       "      <td>25003.0</td>\n",
       "      <td>369</td>\n",
       "      <td>48504.5</td>\n",
       "      <td>349</td>\n",
       "    </tr>\n",
       "    <tr>\n",
       "      <th>6</th>\n",
       "      <td>00165e2e</td>\n",
       "      <td>49291.5</td>\n",
       "      <td>25</td>\n",
       "      <td>49292.0</td>\n",
       "      <td>23</td>\n",
       "      <td>5000.5</td>\n",
       "      <td>20</td>\n",
       "      <td>35077.0</td>\n",
       "      <td>9</td>\n",
       "      <td>10013.0</td>\n",
       "      <td>8</td>\n",
       "    </tr>\n",
       "    <tr>\n",
       "      <th>7</th>\n",
       "      <td>00171ffd</td>\n",
       "      <td>5000.5</td>\n",
       "      <td>262</td>\n",
       "      <td>49291.5</td>\n",
       "      <td>211</td>\n",
       "      <td>49292.0</td>\n",
       "      <td>205</td>\n",
       "      <td>45004.0</td>\n",
       "      <td>157</td>\n",
       "      <td>25003.0</td>\n",
       "      <td>94</td>\n",
       "    </tr>\n",
       "    <tr>\n",
       "      <th>8</th>\n",
       "      <td>0019e439</td>\n",
       "      <td>5000.5</td>\n",
       "      <td>449</td>\n",
       "      <td>49291.5</td>\n",
       "      <td>300</td>\n",
       "      <td>45004.0</td>\n",
       "      <td>296</td>\n",
       "      <td>49292.0</td>\n",
       "      <td>283</td>\n",
       "      <td>5009.0</td>\n",
       "      <td>117</td>\n",
       "    </tr>\n",
       "    <tr>\n",
       "      <th>9</th>\n",
       "      <td>001a93a4</td>\n",
       "      <td>5000.5</td>\n",
       "      <td>196</td>\n",
       "      <td>45004.0</td>\n",
       "      <td>163</td>\n",
       "      <td>49292.0</td>\n",
       "      <td>148</td>\n",
       "      <td>49291.5</td>\n",
       "      <td>130</td>\n",
       "      <td>45001.0</td>\n",
       "      <td>77</td>\n",
       "    </tr>\n",
       "  </tbody>\n",
       "</table>\n",
       "</div>"
      ],
      "text/plain": [
       "  Customer_Id Code_Product1  Number_of_Similar_Customers_Buy1 Code_Product2  \\\n",
       "0    00024de6       35096.5                                34        5000.5   \n",
       "1    00084856        5000.5                              1298       45004.0   \n",
       "2    0008e848        5000.5                                42       49292.0   \n",
       "3    00096930       49292.0                               993        5000.5   \n",
       "4    000c66b7        5000.5                               535       45004.0   \n",
       "5    000e98ee        5000.5                              1250       45004.0   \n",
       "6    00165e2e       49291.5                                25       49292.0   \n",
       "7    00171ffd        5000.5                               262       49291.5   \n",
       "8    0019e439        5000.5                               449       49291.5   \n",
       "9    001a93a4        5000.5                               196       45004.0   \n",
       "\n",
       "   Number_of_Similar_Customers_Buy2 Code_Product3  \\\n",
       "0                                26       49291.5   \n",
       "1                              1202       10013.0   \n",
       "2                                25       45004.0   \n",
       "3                               953       45004.0   \n",
       "4                               433       49292.0   \n",
       "5                              1152       10013.0   \n",
       "6                                23        5000.5   \n",
       "7                               211       49292.0   \n",
       "8                               300       45004.0   \n",
       "9                               163       49292.0   \n",
       "\n",
       "   Number_of_Similar_Customers_Buy3 Code_Product4  \\\n",
       "0                                19       49292.0   \n",
       "1                               431       25003.0   \n",
       "2                                24       49291.5   \n",
       "3                               764       10013.0   \n",
       "4                               393       49291.5   \n",
       "5                               408       25003.0   \n",
       "6                                20       35077.0   \n",
       "7                               205       45004.0   \n",
       "8                               296       49292.0   \n",
       "9                               148       49291.5   \n",
       "\n",
       "   Number_of_Similar_Customers_Buy4 Code_Product5  \\\n",
       "0                                19       35076.0   \n",
       "1                               399       48504.5   \n",
       "2                                23       35076.0   \n",
       "3                               281       25003.0   \n",
       "4                               341       10013.0   \n",
       "5                               369       48504.5   \n",
       "6                                 9       10013.0   \n",
       "7                               157       25003.0   \n",
       "8                               283        5009.0   \n",
       "9                               130       45001.0   \n",
       "\n",
       "   Number_of_Similar_Customers_Buy5  \n",
       "0                                16  \n",
       "1                               369  \n",
       "2                                16  \n",
       "3                               261  \n",
       "4                               169  \n",
       "5                               349  \n",
       "6                                 8  \n",
       "7                                94  \n",
       "8                               117  \n",
       "9                                77  "
      ]
     },
     "execution_count": 90,
     "metadata": {},
     "output_type": "execute_result"
    }
   ],
   "source": [
    "number_of_recommendations = 5\n",
    "number_of_customers = 10\n",
    "\n",
    "df_columns = [\"Customer_Id\"]\n",
    "for i in range(number_of_recommendations):\n",
    "    df_columns.append(f\"Code_Product{i + 1}\")\n",
    "    df_columns.append(f\"Number_of_Similar_Customers_Buy{i + 1}\")\n",
    "\n",
    "df_output = pd.DataFrame(columns=df_columns)\n",
    "\n",
    "for index, item in enumerate(prod.df_customer_ids.values):\n",
    "    if index >= number_of_customers:\n",
    "        break\n",
    "    \n",
    "    picked_customer_id = item[0]\n",
    "    dict_product_totals = get_recommendations(picked_customer_id, prod, np_customer_similarity)\n",
    "    row = [picked_customer_id]\n",
    "    top_product_recommendations = [x for index, x in enumerate(dict_product_totals) if index < number_of_recommendations]\n",
    "    for results in top_product_recommendations:\n",
    "        product_id = results[0]\n",
    "        amount = results[1]\n",
    "        row.append(product_id)\n",
    "        row.append(amount)\n",
    "    df_output.loc[len(df_output)] = row\n",
    "    \n",
    "output_file = \"customer_recommendations.csv\"\n",
    "save_file(output_file, df_output)\n",
    "print(f\"the following records are output to {output_file}\")\n",
    "df_output\n"
   ]
  },
  {
   "attachments": {},
   "cell_type": "markdown",
   "metadata": {},
   "source": [
    "This time select random customers and display the results in a user friendly manner"
   ]
  },
  {
   "cell_type": "code",
   "execution_count": 91,
   "metadata": {},
   "outputs": [],
   "source": [
    "def gen_random_numbers_in_range(low, high, n):\n",
    "    a_list = list(range(low, high))\n",
    "    random.shuffle(a_list)\n",
    "    return a_list[:n]"
   ]
  },
  {
   "cell_type": "code",
   "execution_count": 92,
   "metadata": {},
   "outputs": [
    {
     "name": "stdout",
     "output_type": "stream",
     "text": [
      "2022-12-21 12:19:54,222 | INFO : store recommended products for customer 3dac300a\n"
     ]
    },
    {
     "name": "stderr",
     "output_type": "stream",
     "text": [
      "100%|██████████| 258/258 [00:00<00:00, 5747.91it/s]"
     ]
    },
    {
     "name": "stdout",
     "output_type": "stream",
     "text": [
      "Top 5 products recommended for the picked customer 3dac300a\n",
      "product 5000.5 was bought 180 times by similar customers\n",
      "product 45004.0 was bought 165 times by similar customers\n",
      "product 49292.0 was bought 139 times by similar customers\n",
      "product 49291.5 was bought 104 times by similar customers\n",
      "product 10013.0 was bought 71 times by similar customers\n",
      "-------------------\n"
     ]
    },
    {
     "name": "stderr",
     "output_type": "stream",
     "text": [
      "\n"
     ]
    },
    {
     "name": "stdout",
     "output_type": "stream",
     "text": [
      "2022-12-21 12:19:54,471 | INFO : store recommended products for customer 2e32aab6\n"
     ]
    },
    {
     "name": "stderr",
     "output_type": "stream",
     "text": [
      "100%|██████████| 4225/4225 [00:14<00:00, 287.79it/s] \n"
     ]
    },
    {
     "name": "stdout",
     "output_type": "stream",
     "text": [
      "Top 5 products recommended for the picked customer 2e32aab6\n",
      "product 49292.0 was bought 817 times by similar customers\n",
      "product 5000.5 was bought 739 times by similar customers\n",
      "product 45004.0 was bought 592 times by similar customers\n",
      "product 10013.0 was bought 232 times by similar customers\n",
      "product 25003.0 was bought 215 times by similar customers\n",
      "-------------------\n",
      "2022-12-21 12:20:09,344 | INFO : store recommended products for customer e90f4f6e\n"
     ]
    },
    {
     "name": "stderr",
     "output_type": "stream",
     "text": [
      "100%|██████████| 148/148 [00:00<00:00, 7798.26it/s]"
     ]
    },
    {
     "name": "stdout",
     "output_type": "stream",
     "text": [
      "Top 5 products recommended for the picked customer e90f4f6e\n",
      "product 5000.5 was bought 158 times by similar customers\n",
      "product 49292.0 was bought 120 times by similar customers\n",
      "product 45004.0 was bought 115 times by similar customers\n",
      "product 49291.5 was bought 82 times by similar customers\n",
      "product 5009.0 was bought 63 times by similar customers\n",
      "-------------------\n"
     ]
    },
    {
     "name": "stderr",
     "output_type": "stream",
     "text": [
      "\n"
     ]
    }
   ],
   "source": [
    "random_indexes = gen_random_numbers_in_range(0, len(prod.df_customer_ids) - 1, 9)\n",
    "for i in random_indexes[0:3]:\n",
    "    picked_customer_id = prod.df_customer_ids.values[i][0]\n",
    "    get_recommendations_for_customer(picked_customer_id, prod, np_customer_similarity)"
   ]
  },
  {
   "cell_type": "code",
   "execution_count": 93,
   "metadata": {},
   "outputs": [
    {
     "name": "stdout",
     "output_type": "stream",
     "text": [
      "2022-12-21 12:20:09,569 | INFO : store recommended products for customer 4ca70adf\n"
     ]
    },
    {
     "name": "stderr",
     "output_type": "stream",
     "text": [
      "100%|██████████| 9/9 [00:00<?, ?it/s]"
     ]
    },
    {
     "name": "stdout",
     "output_type": "stream",
     "text": [
      "Top 5 products recommended for the picked customer 4ca70adf\n",
      "product 35075.5 was bought 5 times by similar customers\n",
      "product 49291.5 was bought 5 times by similar customers\n",
      "product 5000.5 was bought 4 times by similar customers\n",
      "-------------------\n",
      "2022-12-21 12:20:09,729 | INFO : store recommended products for customer 29f960bd\n"
     ]
    },
    {
     "name": "stderr",
     "output_type": "stream",
     "text": [
      "\n",
      "100%|██████████| 222/222 [00:00<00:00, 6183.21it/s]"
     ]
    },
    {
     "name": "stdout",
     "output_type": "stream",
     "text": [
      "Top 5 products recommended for the picked customer 29f960bd\n",
      "product 49291.5 was bought 142 times by similar customers\n",
      "product 5000.5 was bought 133 times by similar customers\n",
      "product 45004.0 was bought 125 times by similar customers\n",
      "product 49292.0 was bought 116 times by similar customers\n",
      "product 48513.0 was bought 51 times by similar customers\n",
      "-------------------\n",
      "2022-12-21 12:20:09,924 | INFO : store recommended products for customer 6cac3cf9\n"
     ]
    },
    {
     "name": "stderr",
     "output_type": "stream",
     "text": [
      "\n",
      "100%|██████████| 198/198 [00:00<00:00, 6845.98it/s]"
     ]
    },
    {
     "name": "stdout",
     "output_type": "stream",
     "text": [
      "Top 5 products recommended for the picked customer 6cac3cf9\n",
      "product 5000.5 was bought 101 times by similar customers\n",
      "product 49291.5 was bought 92 times by similar customers\n",
      "product 49292.0 was bought 86 times by similar customers\n",
      "product 45004.0 was bought 55 times by similar customers\n",
      "product 45001.0 was bought 32 times by similar customers\n",
      "-------------------\n"
     ]
    },
    {
     "name": "stderr",
     "output_type": "stream",
     "text": [
      "\n"
     ]
    }
   ],
   "source": [
    "for i in random_indexes[3:6]:\n",
    "    picked_customer_id = prod.df_customer_ids.values[i][0]\n",
    "    get_recommendations_for_customer(picked_customer_id, prod, np_customer_similarity)"
   ]
  },
  {
   "cell_type": "code",
   "execution_count": 94,
   "metadata": {},
   "outputs": [
    {
     "name": "stdout",
     "output_type": "stream",
     "text": [
      "2022-12-21 12:20:10,177 | INFO : store recommended products for customer ba97baa6\n"
     ]
    },
    {
     "name": "stderr",
     "output_type": "stream",
     "text": [
      "100%|██████████| 255/255 [00:00<00:00, 6087.84it/s]"
     ]
    },
    {
     "name": "stdout",
     "output_type": "stream",
     "text": [
      "Top 5 products recommended for the picked customer ba97baa6\n",
      "product 5000.5 was bought 172 times by similar customers\n",
      "product 49292.0 was bought 167 times by similar customers\n",
      "product 49291.5 was bought 157 times by similar customers\n",
      "product 45004.0 was bought 127 times by similar customers\n",
      "product 45001.0 was bought 59 times by similar customers\n",
      "-------------------\n",
      "2022-12-21 12:20:10,389 | INFO : store recommended products for customer 631f1962\n"
     ]
    },
    {
     "name": "stderr",
     "output_type": "stream",
     "text": [
      "\n",
      "100%|██████████| 121/121 [00:00<00:00, 8666.81it/s]"
     ]
    },
    {
     "name": "stdout",
     "output_type": "stream",
     "text": [
      "Top 5 products recommended for the picked customer 631f1962\n",
      "product 5000.5 was bought 51 times by similar customers\n",
      "product 49291.5 was bought 41 times by similar customers\n",
      "product 49292.0 was bought 39 times by similar customers\n",
      "product 45004.0 was bought 33 times by similar customers\n",
      "product 10013.0 was bought 21 times by similar customers\n",
      "-------------------\n",
      "2022-12-21 12:20:10,597 | INFO : store recommended products for customer b32563ee\n"
     ]
    },
    {
     "name": "stderr",
     "output_type": "stream",
     "text": [
      "\n",
      "100%|██████████| 7213/7213 [00:41<00:00, 174.61it/s]"
     ]
    },
    {
     "name": "stdout",
     "output_type": "stream",
     "text": [
      "Top 5 products recommended for the picked customer b32563ee\n",
      "product 49292.0 was bought 1089 times by similar customers\n",
      "product 45004.0 was bought 1059 times by similar customers\n",
      "product 49291.5 was bought 1059 times by similar customers\n",
      "product 10013.0 was bought 459 times by similar customers\n",
      "product 5009.0 was bought 428 times by similar customers\n",
      "-------------------\n"
     ]
    },
    {
     "name": "stderr",
     "output_type": "stream",
     "text": [
      "\n"
     ]
    }
   ],
   "source": [
    "for i in random_indexes[6:9]:\n",
    "    picked_customer_id = prod.df_customer_ids.values[i][0]\n",
    "    get_recommendations_for_customer(picked_customer_id, prod, np_customer_similarity)"
   ]
  }
 ],
 "metadata": {
  "kernelspec": {
   "display_name": "base",
   "language": "python",
   "name": "python3"
  },
  "language_info": {
   "codemirror_mode": {
    "name": "ipython",
    "version": 3
   },
   "file_extension": ".py",
   "mimetype": "text/x-python",
   "name": "python",
   "nbconvert_exporter": "python",
   "pygments_lexer": "ipython3",
   "version": "3.9.13 (main, Aug 25 2022, 23:51:50) [MSC v.1916 64 bit (AMD64)]"
  },
  "orig_nbformat": 4,
  "vscode": {
   "interpreter": {
    "hash": "b41ba045e83f0be7a0a86cbeef029bed6bb1f3047ea5aef815a52ba8b6ba543c"
   }
  }
 },
 "nbformat": 4,
 "nbformat_minor": 2
}
