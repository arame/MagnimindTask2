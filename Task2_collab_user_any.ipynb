{
 "cells": [
  {
   "attachments": {},
   "cell_type": "markdown",
   "metadata": {},
   "source": [
    "Precondition: run Task2_clean.ipynb before running this code.\n",
    "This creates the input file of the Customer-Product utility matrix"
   ]
  },
  {
   "attachments": {},
   "cell_type": "markdown",
   "metadata": {},
   "source": [
    "This code in based on Task2_collab_user_single.ipynb<br>\n",
    "The code in this notebook allows you to find out the recommendations for any customer, not just one.\n"
   ]
  },
  {
   "cell_type": "code",
   "execution_count": 1,
   "metadata": {},
   "outputs": [],
   "source": [
    "from product_data import ProductData\n",
    "import numpy as np\n",
    "import random"
   ]
  },
  {
   "cell_type": "code",
   "execution_count": 2,
   "metadata": {},
   "outputs": [],
   "source": [
    "file_name = \"recom_pivot.csv\"\n",
    "prod = ProductData(file_name)\n",
    "prod.set_pivot_dataframe_data_types()"
   ]
  },
  {
   "attachments": {},
   "cell_type": "markdown",
   "metadata": {},
   "source": [
    "Need to recommend products for the customer\n",
    "\n",
    "Do not recommend products that the customer has already bought (also ignore where correlation = 1)\n",
    "\n",
    "Need to recommend products that similar customers have bought but the picked customer has not."
   ]
  },
  {
   "cell_type": "code",
   "execution_count": 3,
   "metadata": {},
   "outputs": [],
   "source": [
    "def get_recommendations(picked_customer_id, prod, np_customer_similarity):\n",
    "    # Number of similar customers\n",
    "    n = 10\n",
    "    # Customer similarity threshold\n",
    "    customer_similarity_threshold = 0.1\n",
    "    # find the index of the picked customer id\n",
    "    picked_customer_ind = prod.dict_customers_rvs[picked_customer_id]\n",
    "    # Get top n similar users\n",
    "    # Also exclude similar users where the correlation = 1.\n",
    "    # Correlation = 1 means the customer record is precisely the same as the picked customer.\n",
    "    # In which case no new products will be recommended from that customer\n",
    "    customer_row = np_customer_similarity[picked_customer_ind]\n",
    "    list_customer_results = []\n",
    "    for customer_ind, corr_val in enumerate(customer_row):\n",
    "        if corr_val < customer_similarity_threshold and corr_val < 1:\n",
    "            continue\n",
    "\n",
    "        customer = prod.dict_customers[customer_ind]\n",
    "        if customer == picked_customer_id:\n",
    "            continue\n",
    "            \n",
    "        correlation = round(corr_val, 2)\n",
    "        list_customer_results.append((customer, correlation))\n",
    "\n",
    "    list_customer_results.sort(key = lambda x: x[1], reverse=True)\n",
    "    np_products = prod.df_products.to_numpy()\n",
    "    product_names = prod.df_products.columns.values\n",
    "    # convert product names list to dictionary\n",
    "    product_dict = {key: i for i, key in enumerate(product_names)}\n",
    "    product_dict_rvs = dict([(value, key) for key, value in product_dict.items()])\n",
    "    # get product_ids for the picked customer\n",
    "    picked_customer_products = prod.df_products.iloc[picked_customer_ind]\n",
    "    dict_picked_customer_products = {}\n",
    "    list_picked_customer_products = []\n",
    "    for i, val in enumerate(picked_customer_products.values):\n",
    "        if val > 0:\n",
    "            product_id = product_dict_rvs[i]\n",
    "            dict_picked_customer_products[product_id] = val\n",
    "            list_picked_customer_products.append(product_id)\n",
    "    np_selected_customers = np.empty((0, prod.df_products.shape[1]))\n",
    "    for customer, correlation in list_customer_results:\n",
    "        customer_ind = prod.dict_customers_rvs[customer]\n",
    "        row = np_products[customer_ind]\n",
    "        np_selected_customers = np.vstack([np_selected_customers, row])\n",
    "    # Locate the best selling products for all the similar customers, these will be the recommended products for the selected customer. Exclude products that the customer has already bought.\n",
    "    product_totals = np_selected_customers.sum(axis=0)\n",
    "    dict_product_totals = dict((product_dict_rvs[key], value) for key, value in enumerate(product_totals, 0) if value > 3 and product_dict_rvs[key] not in list_picked_customer_products)\n",
    "    dict_product_totals = sorted(dict_product_totals.items(), key=lambda x:x[1], reverse=True)\n",
    "    return dict_product_totals"
   ]
  },
  {
   "cell_type": "code",
   "execution_count": 4,
   "metadata": {},
   "outputs": [],
   "source": [
    "def get_recommendations_for_customer(picked_customer_id, prod, np_customer_similarity, N = 5):\n",
    "    dict_product_totals = get_recommendations(picked_customer_id, prod, np_customer_similarity)\n",
    "    print(f\"Top {N} products recommended for the picked customer {picked_customer_id}\")\n",
    "\n",
    "    top_product_recommendations = [x for index, x in enumerate(dict_product_totals) if index < N]\n",
    "    for product, amount in top_product_recommendations:\n",
    "        print(f\"product {product} was bought {amount} times by similar customers\")\n",
    "    print(\"-------------------\")"
   ]
  },
  {
   "cell_type": "code",
   "execution_count": 5,
   "metadata": {},
   "outputs": [
    {
     "name": "stdout",
     "output_type": "stream",
     "text": [
      "Top 5 products recommended for the picked customer 0008e848\n",
      "product 5000.5 was bought 42 times by similar customers\n",
      "product 49292.0 was bought 25 times by similar customers\n",
      "product 45004.0 was bought 24 times by similar customers\n",
      "product 49291.5 was bought 23 times by similar customers\n",
      "product 35076.0 was bought 16 times by similar customers\n",
      "-------------------\n"
     ]
    }
   ],
   "source": [
    "# Generate the correlation (Pearson values) matrix for customers\n",
    "x1 = prod.df_products.astype(float).to_numpy()\n",
    "np_customer_similarity = np.corrcoef(x1)\n",
    "\n",
    "# pick a customer and get the index for that customer\n",
    "picked_customer_id = \"0008e848\"\n",
    "get_recommendations_for_customer(picked_customer_id, prod, np_customer_similarity)"
   ]
  },
  {
   "cell_type": "code",
   "execution_count": 6,
   "metadata": {},
   "outputs": [],
   "source": [
    "def gen_random_numbers_in_range(low, high, n):\n",
    "    a_list = list(range(low, high))\n",
    "    random.shuffle(a_list)\n",
    "    return a_list[:n]"
   ]
  },
  {
   "cell_type": "code",
   "execution_count": 7,
   "metadata": {},
   "outputs": [
    {
     "name": "stdout",
     "output_type": "stream",
     "text": [
      "Top 5 products recommended for the picked customer 94f442b2\n",
      "product 49291.5 was bought 935 times by similar customers\n",
      "product 5000.5 was bought 892 times by similar customers\n",
      "product 45004.0 was bought 818 times by similar customers\n",
      "product 10013.0 was bought 311 times by similar customers\n",
      "product 25003.0 was bought 285 times by similar customers\n",
      "-------------------\n",
      "Top 5 products recommended for the picked customer db217e3b\n",
      "product 49291.5 was bought 935 times by similar customers\n",
      "product 5000.5 was bought 892 times by similar customers\n",
      "product 45004.0 was bought 818 times by similar customers\n",
      "product 10013.0 was bought 311 times by similar customers\n",
      "product 25003.0 was bought 285 times by similar customers\n",
      "-------------------\n",
      "Top 5 products recommended for the picked customer 8aa428b8\n",
      "product 49291.5 was bought 935 times by similar customers\n",
      "product 5000.5 was bought 892 times by similar customers\n",
      "product 45004.0 was bought 818 times by similar customers\n",
      "product 10013.0 was bought 311 times by similar customers\n",
      "product 25003.0 was bought 285 times by similar customers\n",
      "-------------------\n",
      "Top 5 products recommended for the picked customer c3025328\n",
      "product 5000.5 was bought 47 times by similar customers\n",
      "product 49291.5 was bought 36 times by similar customers\n",
      "product 45004.0 was bought 22 times by similar customers\n",
      "product 49292.0 was bought 20 times by similar customers\n",
      "product 10003.0 was bought 17 times by similar customers\n",
      "-------------------\n",
      "Top 5 products recommended for the picked customer e68751c8\n",
      "product 5000.5 was bought 500 times by similar customers\n",
      "product 49291.5 was bought 354 times by similar customers\n",
      "product 45004.0 was bought 337 times by similar customers\n",
      "product 49292.0 was bought 327 times by similar customers\n",
      "product 25003.0 was bought 148 times by similar customers\n",
      "-------------------\n"
     ]
    }
   ],
   "source": [
    "random_indexes = gen_random_numbers_in_range(0, len(prod.df_customer_ids) - 1, 5)\n",
    "for i in random_indexes:\n",
    "    picked_customer_id = prod.df_customer_ids.values[i][0]\n",
    "    get_recommendations_for_customer(picked_customer_id, prod, np_customer_similarity)"
   ]
  }
 ],
 "metadata": {
  "kernelspec": {
   "display_name": "base",
   "language": "python",
   "name": "python3"
  },
  "language_info": {
   "codemirror_mode": {
    "name": "ipython",
    "version": 3
   },
   "file_extension": ".py",
   "mimetype": "text/x-python",
   "name": "python",
   "nbconvert_exporter": "python",
   "pygments_lexer": "ipython3",
   "version": "3.9.13"
  },
  "orig_nbformat": 4,
  "vscode": {
   "interpreter": {
    "hash": "b41ba045e83f0be7a0a86cbeef029bed6bb1f3047ea5aef815a52ba8b6ba543c"
   }
  }
 },
 "nbformat": 4,
 "nbformat_minor": 2
}
