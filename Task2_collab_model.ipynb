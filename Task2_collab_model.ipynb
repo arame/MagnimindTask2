{
 "cells": [
  {
   "attachments": {},
   "cell_type": "markdown",
   "metadata": {},
   "source": [
    "Precondition: run Task2_clean.ipynb before running this code.\n",
    "This creates the input file of the Customer-Product utility matrix"
   ]
  },
  {
   "attachments": {},
   "cell_type": "markdown",
   "metadata": {},
   "source": [
    "Model based recommendation system.\n",
    "We found for the memory based item recommendation system, the results were poor.\n",
    "This is because the Customer-Product matrix is large and sparse, making it unlikely there\n",
    "are going to be good correlations. (See Task2_collab_item.ipnyb)"
   ]
  },
  {
   "attachments": {},
   "cell_type": "markdown",
   "metadata": {},
   "source": [
    "To install the surprise library, go to your anaconda prompt and type: \n",
    ">conda install -c conda-forge scikit-surprise"
   ]
  },
  {
   "cell_type": "code",
   "execution_count": 37,
   "metadata": {},
   "outputs": [],
   "source": [
    "import pandas as pd\n",
    "import numpy as np\n",
    "from product_data import ProductData\n",
    "from surprise import Reader, Dataset, SVD, accuracy\n",
    "from surprise.model_selection import cross_validate, train_test_split"
   ]
  },
  {
   "cell_type": "code",
   "execution_count": 38,
   "metadata": {},
   "outputs": [
    {
     "data": {
      "text/html": [
       "<div>\n",
       "<style scoped>\n",
       "    .dataframe tbody tr th:only-of-type {\n",
       "        vertical-align: middle;\n",
       "    }\n",
       "\n",
       "    .dataframe tbody tr th {\n",
       "        vertical-align: top;\n",
       "    }\n",
       "\n",
       "    .dataframe thead th {\n",
       "        text-align: right;\n",
       "    }\n",
       "</style>\n",
       "<table border=\"1\" class=\"dataframe\">\n",
       "  <thead>\n",
       "    <tr style=\"text-align: right;\">\n",
       "      <th></th>\n",
       "      <th>Customer_ID</th>\n",
       "      <th>Code_Product</th>\n",
       "      <th>Order_Amount</th>\n",
       "    </tr>\n",
       "  </thead>\n",
       "  <tbody>\n",
       "    <tr>\n",
       "      <th>0</th>\n",
       "      <td>90fada91</td>\n",
       "      <td>5002.0</td>\n",
       "      <td>1</td>\n",
       "    </tr>\n",
       "    <tr>\n",
       "      <th>1</th>\n",
       "      <td>9006f9ac</td>\n",
       "      <td>35012.0</td>\n",
       "      <td>1</td>\n",
       "    </tr>\n",
       "    <tr>\n",
       "      <th>2</th>\n",
       "      <td>32270891</td>\n",
       "      <td>5005.0</td>\n",
       "      <td>1</td>\n",
       "    </tr>\n",
       "    <tr>\n",
       "      <th>3</th>\n",
       "      <td>97e03e47</td>\n",
       "      <td>35078.5</td>\n",
       "      <td>1</td>\n",
       "    </tr>\n",
       "    <tr>\n",
       "      <th>4</th>\n",
       "      <td>41949228</td>\n",
       "      <td>49291.5</td>\n",
       "      <td>5</td>\n",
       "    </tr>\n",
       "  </tbody>\n",
       "</table>\n",
       "</div>"
      ],
      "text/plain": [
       "  Customer_ID  Code_Product  Order_Amount\n",
       "0    90fada91        5002.0             1\n",
       "1    9006f9ac       35012.0             1\n",
       "2    32270891        5005.0             1\n",
       "3    97e03e47       35078.5             1\n",
       "4    41949228       49291.5             5"
      ]
     },
     "execution_count": 38,
     "metadata": {},
     "output_type": "execute_result"
    }
   ],
   "source": [
    "file_name = \"recom_pivot.csv\"\n",
    "prod = ProductData(file_name)\n",
    "prod.set_orig_dataframe_data_types()\n",
    "prod.df_orig_recommender.head()"
   ]
  },
  {
   "cell_type": "code",
   "execution_count": 39,
   "metadata": {},
   "outputs": [
    {
     "data": {
      "text/plain": [
       "{'test_rmse': array([0.71280381, 0.77660473, 0.72865585]),\n",
       " 'fit_time': (0.4248635768890381, 0.3991405963897705, 0.4308507442474365),\n",
       " 'test_time': (0.08679533004760742, 0.08078384399414062, 0.16452836990356445)}"
      ]
     },
     "execution_count": 39,
     "metadata": {},
     "output_type": "execute_result"
    }
   ],
   "source": [
    "reader = Reader()\n",
    "data = Dataset.load_from_df(prod.df_orig_recommender, reader)\n",
    "svd = SVD()\n",
    "cross_validate(svd, data, measures=[\"RMSE\"], cv = 3)"
   ]
  },
  {
   "attachments": {},
   "cell_type": "markdown",
   "metadata": {},
   "source": [
    "The best RMSE value is 0.87, which is very impressive"
   ]
  },
  {
   "attachments": {},
   "cell_type": "markdown",
   "metadata": {},
   "source": [
    "Use the full dataset for training"
   ]
  },
  {
   "cell_type": "code",
   "execution_count": 40,
   "metadata": {},
   "outputs": [
    {
     "data": {
      "text/plain": [
       "<surprise.prediction_algorithms.matrix_factorization.SVD at 0x1eb86e3b280>"
      ]
     },
     "execution_count": 40,
     "metadata": {},
     "output_type": "execute_result"
    }
   ],
   "source": [
    "trainset = data.build_full_trainset()\n",
    "svd.fit(trainset)"
   ]
  },
  {
   "attachments": {},
   "cell_type": "markdown",
   "metadata": {},
   "source": [
    "Choose a customer for testing"
   ]
  },
  {
   "cell_type": "code",
   "execution_count": 41,
   "metadata": {},
   "outputs": [
    {
     "data": {
      "text/html": [
       "<div>\n",
       "<style scoped>\n",
       "    .dataframe tbody tr th:only-of-type {\n",
       "        vertical-align: middle;\n",
       "    }\n",
       "\n",
       "    .dataframe tbody tr th {\n",
       "        vertical-align: top;\n",
       "    }\n",
       "\n",
       "    .dataframe thead th {\n",
       "        text-align: right;\n",
       "    }\n",
       "</style>\n",
       "<table border=\"1\" class=\"dataframe\">\n",
       "  <thead>\n",
       "    <tr style=\"text-align: right;\">\n",
       "      <th></th>\n",
       "      <th>Customer_ID</th>\n",
       "      <th>Code_Product</th>\n",
       "      <th>Order_Amount</th>\n",
       "    </tr>\n",
       "  </thead>\n",
       "  <tbody>\n",
       "    <tr>\n",
       "      <th>9397</th>\n",
       "      <td>00e7053f</td>\n",
       "      <td>5001.0</td>\n",
       "      <td>1</td>\n",
       "    </tr>\n",
       "    <tr>\n",
       "      <th>12882</th>\n",
       "      <td>00e7053f</td>\n",
       "      <td>49292.0</td>\n",
       "      <td>4</td>\n",
       "    </tr>\n",
       "    <tr>\n",
       "      <th>17920</th>\n",
       "      <td>00e7053f</td>\n",
       "      <td>5000.5</td>\n",
       "      <td>3</td>\n",
       "    </tr>\n",
       "    <tr>\n",
       "      <th>38532</th>\n",
       "      <td>00e7053f</td>\n",
       "      <td>49291.5</td>\n",
       "      <td>1</td>\n",
       "    </tr>\n",
       "    <tr>\n",
       "      <th>38766</th>\n",
       "      <td>00e7053f</td>\n",
       "      <td>5027.0</td>\n",
       "      <td>1</td>\n",
       "    </tr>\n",
       "    <tr>\n",
       "      <th>49027</th>\n",
       "      <td>00e7053f</td>\n",
       "      <td>5000.5</td>\n",
       "      <td>2</td>\n",
       "    </tr>\n",
       "  </tbody>\n",
       "</table>\n",
       "</div>"
      ],
      "text/plain": [
       "      Customer_ID  Code_Product  Order_Amount\n",
       "9397     00e7053f        5001.0             1\n",
       "12882    00e7053f       49292.0             4\n",
       "17920    00e7053f        5000.5             3\n",
       "38532    00e7053f       49291.5             1\n",
       "38766    00e7053f        5027.0             1\n",
       "49027    00e7053f        5000.5             2"
      ]
     },
     "execution_count": 41,
     "metadata": {},
     "output_type": "execute_result"
    }
   ],
   "source": [
    "customer = \"00e7053f\"\n",
    "prod.df_orig_recommender[prod.df_orig_recommender[\"Customer_ID\"] == customer]"
   ]
  },
  {
   "attachments": {},
   "cell_type": "markdown",
   "metadata": {},
   "source": [
    "Try some values to test the user"
   ]
  },
  {
   "cell_type": "code",
   "execution_count": 42,
   "metadata": {},
   "outputs": [
    {
     "name": "stdout",
     "output_type": "stream",
     "text": [
      "For Customer = 00e7053f.\n",
      "\tProduct = 5001.0 bought\n",
      "\tuser: 00e7053f   item: 5001.0     r_ui = None   est = 1.52   {'was_impossible': False}\n",
      "\t----------------------------\n",
      "\tProduct = 49292.0 bought\n",
      "\tuser: 00e7053f   item: 49292.0    r_ui = None   est = 1.65   {'was_impossible': False}\n",
      "\t----------------------------\n",
      "\tProduct = 5000.5 bought\n",
      "\tuser: 00e7053f   item: 5000.5     r_ui = None   est = 1.74   {'was_impossible': False}\n",
      "\t----------------------------\n",
      "\tProduct = 49291.5 bought\n",
      "\tuser: 00e7053f   item: 49291.5    r_ui = None   est = 1.38   {'was_impossible': False}\n",
      "\t----------------------------\n",
      "\tProduct = 5027.0 bought\n",
      "\tuser: 00e7053f   item: 5027.0     r_ui = None   est = 1.28   {'was_impossible': False}\n",
      "\t----------------------------\n",
      "\tProduct = 5000.5 bought\n",
      "\tuser: 00e7053f   item: 5000.5     r_ui = None   est = 1.74   {'was_impossible': False}\n",
      "\t----------------------------\n",
      "\tProduct = 35087.0 NOT bought\n",
      "\tuser: 00e7053f   item: 35087.0    r_ui = None   est = 1.50   {'was_impossible': False}\n",
      "\t----------------------------\n",
      "\tProduct = 40017.5 NOT bought\n",
      "\tuser: 00e7053f   item: 40017.5    r_ui = None   est = 1.80   {'was_impossible': False}\n",
      "\t----------------------------\n",
      "\tProduct = 10001.0 NOT bought\n",
      "\tuser: 00e7053f   item: 10001.0    r_ui = None   est = 1.45   {'was_impossible': False}\n",
      "\t----------------------------\n"
     ]
    }
   ],
   "source": [
    "Code_Products = [5001.0, 49292.0, 5000.5, 49291.5, 5027.0, 5000.5, 35087.0, 40017.5, 10001.0]\n",
    "Customer_Products_Bought = [5001.0, 49292.0, 5000.5, 49291.5, 5027.0, 5000.5]\n",
    "\n",
    "print(f\"For Customer = {customer}.\")\n",
    "for code in Code_Products:\n",
    "    if code in Customer_Products_Bought:\n",
    "        print(f\"\\tProduct = {code} bought\")\n",
    "    else:\n",
    "        print(f\"\\tProduct = {code} NOT bought\")\n",
    "    p = svd.predict(customer, code)\n",
    "    print(f\"\\t{p}\\n\\t----------------------------\")"
   ]
  },
  {
   "attachments": {},
   "cell_type": "markdown",
   "metadata": {},
   "source": [
    "It doesn't seem as though the reommender can predict zero sales for a customer, even though that would be correct for all the customers most of the time.\n",
    "Every time the code is run there are variations in the estimates"
   ]
  },
  {
   "cell_type": "code",
   "execution_count": 43,
   "metadata": {},
   "outputs": [
    {
     "data": {
      "text/plain": [
       "<surprise.prediction_algorithms.matrix_factorization.SVD at 0x1eb86e3b280>"
      ]
     },
     "execution_count": 43,
     "metadata": {},
     "output_type": "execute_result"
    }
   ],
   "source": [
    "train_data, test_data = train_test_split(data, test_size=0.2)\n",
    "svd.fit(train_data)"
   ]
  },
  {
   "cell_type": "code",
   "execution_count": 44,
   "metadata": {},
   "outputs": [
    {
     "name": "stdout",
     "output_type": "stream",
     "text": [
      "RMSE: 0.7886\n"
     ]
    },
    {
     "data": {
      "text/plain": [
       "0.7885525714890977"
      ]
     },
     "execution_count": 44,
     "metadata": {},
     "output_type": "execute_result"
    }
   ],
   "source": [
    "predictions = svd.test(test_data)\n",
    "accuracy.rmse(predictions)"
   ]
  }
 ],
 "metadata": {
  "kernelspec": {
   "display_name": "base",
   "language": "python",
   "name": "python3"
  },
  "language_info": {
   "codemirror_mode": {
    "name": "ipython",
    "version": 3
   },
   "file_extension": ".py",
   "mimetype": "text/x-python",
   "name": "python",
   "nbconvert_exporter": "python",
   "pygments_lexer": "ipython3",
   "version": "3.9.13"
  },
  "orig_nbformat": 4,
  "vscode": {
   "interpreter": {
    "hash": "b41ba045e83f0be7a0a86cbeef029bed6bb1f3047ea5aef815a52ba8b6ba543c"
   }
  }
 },
 "nbformat": 4,
 "nbformat_minor": 2
}
